{
 "cells": [
  {
   "cell_type": "code",
   "execution_count": 1,
   "id": "af4fca17-fd26-4760-9434-fda000bf83fc",
   "metadata": {
    "tags": []
   },
   "outputs": [],
   "source": [
    "from os import chdir\n",
    "chdir('.')\n",
    "\n",
    "from GAN_Tools import get_default_device, to_device, GanComponent, Results, Environment\n",
    "from GAN_Tools import classification_metrics\n",
    "\n",
    "import pandas as pd\n",
    "import numpy as np\n",
    "from os import mkdir\n",
    "from os.path import isdir, exists\n",
    "from torch import optim\n",
    "import random\n",
    "from torch import manual_seed\n",
    "from plotnine import ggplot, aes, geom_line, geom_vline, labels, scales\n",
    "import joblib"
   ]
  },
  {
   "cell_type": "code",
   "execution_count": null,
   "id": "ad983db2-95d2-487b-a082-8d082b310f7f",
   "metadata": {
    "tags": []
   },
   "outputs": [
    {
     "name": "stderr",
     "output_type": "stream",
     "text": [
      "lr_1 1 out of 3: 100%|███████████████████████████████████████████████████████████████████| 5/5 [00:36<00:00,  7.20s/it]\n"
     ]
    },
    {
     "name": "stdout",
     "output_type": "stream",
     "text": [
      "Final loss reached: 3.7084922790527344\n"
     ]
    },
    {
     "name": "stderr",
     "output_type": "stream",
     "text": [
      "lr_1 2 out of 3: 100%|███████████████████████████████████████████████████████████████████| 5/5 [00:35<00:00,  7.06s/it]\n"
     ]
    },
    {
     "name": "stdout",
     "output_type": "stream",
     "text": [
      "Final loss reached: 5.813468933105469\n"
     ]
    },
    {
     "name": "stderr",
     "output_type": "stream",
     "text": [
      "lr_1 3 out of 3:  60%|████████████████████████████████████████▏                          | 3/5 [00:28<00:18,  9.39s/it]\n"
     ]
    },
    {
     "name": "stdout",
     "output_type": "stream",
     "text": [
      "Final loss reached: 3.9631497859954834\n",
      "lr_2 1 out of 3\n"
     ]
    },
    {
     "name": "stderr",
     "output_type": "stream",
     "text": [
      " 22%|█████████████████▎                                                              | 108/500 [00:07<00:27, 14.47it/s]"
     ]
    }
   ],
   "source": [
    "PATH = \".\"\n",
    "\n",
    "##Check dir structure, and make sub-directories if not present\n",
    "if not isdir(PATH+'/Results'):\n",
    "    mkdir(PATH+'/Results')\n",
    "if not isdir(PATH+'/Results/External_Results'):\n",
    "    mkdir(PATH+'/Results/External_Results')\n",
    "if not isdir(PATH+'/Results/Main_Results'):\n",
    "    mkdir(PATH+'/Results/Main_Results')\n",
    "if not isdir(PATH+'/Results/External_Results/Saved_Pars'):\n",
    "    mkdir(PATH+'/Results/External_Results/Saved_Pars')\n",
    "if not isdir(PATH+'/Results/Main_Results/Saved_Pars'):\n",
    "    mkdir(PATH+'/Results/Main_Results/Saved_Pars')\n",
    "if not isdir(PATH+'/Results/Main_Results/overrep'):\n",
    "    mkdir(PATH+'/Results/Main_Results/overrep')\n",
    "if not isdir(PATH+'/Results/Main_Results/overrep/Saved_Pars'):\n",
    "    mkdir(PATH+'/Results/Main_Results/overrep/Saved_Pars')\n",
    "if not isdir(PATH+'/Data'):\n",
    "    mkdir(PATH+'/Data')\n",
    "    print('WARNING: ENSURE DATA IS COPIED INTO THIS DIRECTORY')\n",
    "\n",
    "\n",
    "Env_pre = Environment()\n",
    "Env_pre.device = get_default_device()\n",
    "\n",
    "experiment_data = 'microarray'\n",
    "\n",
    "Env_pre.PATH = PATH\n",
    "\n",
    "np.random.seed(117)\n",
    "manual_seed(117)\n",
    "random.seed(117)\n",
    "\n",
    "#%%\n",
    "###TRAINING\n",
    "#pars\n",
    "Env_pre.func_optim = optim.SGD\n",
    "Env_pre.n_features = 135 #218\n",
    "Env_pre.alpha = 0\n",
    "Env_pre.beta = 13\n",
    "Env_pre.batch_size = 30\n",
    "Env_pre.iter_critic = 4\n",
    "\n",
    "dropout_prob = 0.5\n",
    "\n",
    "#%%\n",
    "##remove IDs if real data\n",
    "def prepare_dat(path_dir, file_name, n_cols_rem):\n",
    "    if not exists(path_dir + '/' + file_name[:-4] + '_inp.csv'):\n",
    "        dat_temp = pd.read_csv(path_dir + '/' + file_name)\n",
    "        dat_temp = dat_temp.iloc[:, n_cols_rem:]\n",
    "        dat_temp.to_csv(path_dir + '/' + file_name[:-4] + '_inp.csv', index = False)\n",
    "\n",
    "#remove ID and label\n",
    "if experiment_data == 'microarray':\n",
    "    prepare_dat(PATH + '/Data', 'dat_ext.csv', 2)\n",
    "elif experiment_data == 'simulation':\n",
    "    prepare_dat(PATH + '/Data', 'dat_ext.csv', 0)\n",
    "elif experiment_data == 'metabolomics':\n",
    "    prepare_dat(PATH + '/Data', 'dat_ext.csv', 2)\n",
    "else:\n",
    "    print('Error')\n",
    "    \n",
    "    \n",
    "     \n",
    "#%%\n",
    "##Train pre_GAN on external data\n",
    "\n",
    "#For sim\n",
    "#Env_pre.path_dat = PATH + '/sim_dat_ext.csv'\n",
    "#For real\n",
    "Env_pre.path_dat = PATH + '/Data/dat_ext_inp.csv'\n",
    "\n",
    "Env_pre.path_results = PATH + '/Results/External_Results'\n",
    "Env_pre.path_pars = Env_pre.path_results + '/Saved_Pars'\n",
    "\n",
    "\n",
    "\n",
    "Env_pre.n_training_samples = sum(1 for line in open(Env_pre.path_dat)) - 1 #number of records in file (excludes header)\n",
    "\n",
    "Env_pre.critic = GanComponent(Env_pre.n_features, \n",
    "                              Env_pre.init_weights, \n",
    "                              200, \n",
    "                              dropout_prob,\n",
    "                              \"critic\")\n",
    "Env_pre.generator = GanComponent(Env_pre.n_features, \n",
    "                                 Env_pre.init_weights, \n",
    "                                 50, \n",
    "                                 dropout_prob,\n",
    "                                 \"generator\")\n",
    "Env_pre.results_record = Results(path = Env_pre.path_results, saved_results = False)\n",
    "\n",
    "to_device(Env_pre.critic.train(), Env_pre.device)\n",
    "to_device(Env_pre.generator.train(), Env_pre.device)\n",
    "\n",
    "\n",
    "##transformer generated based on batch of size 200 or max data if < 200 (95 samples in metabolomics)\n",
    "if experiment_data == 'metabolomics':\n",
    "    Env_pre.transformer = Env_pre.get_scaler(95, '/ext_transformer.pkl')\n",
    "else:\n",
    "    Env_pre.transformer = Env_pre.get_scaler(200, '/ext_transformer.pkl')\n",
    "\n",
    "\n",
    "\n",
    "#%%\n",
    "##First training loop\n",
    "#if experiment_data == 'microarray':\n",
    "#    Env_pre.lr = 0.0005\n",
    "#    n_epochs = 1000\n",
    "#if experiment_data == 'simulation':\n",
    "#    Env_pre.lr = 0.001\n",
    "#    n_epochs = 1000\n",
    "#if experiment_data == 'metabolomics':\n",
    "#    Env_pre.lr = 0.001\n",
    "#    n_epochs = 1000\n",
    "\n",
    "max_loss = 15\n",
    "min_loss = -10\n",
    "    \n",
    "##First training loop\n",
    "telapsed_summary_1 = Env_pre.tuneAndTrain(max_loss, min_loss, dropout_prob, preTrained=False)\n",
    "\n",
    "Env_pre.generator.grow(100)\n",
    "Env_pre.critic.grow(100)\n",
    "\n",
    "to_device(Env_pre.generator, Env_pre.device)\n",
    "to_device(Env_pre.critic, Env_pre.device)\n",
    "\n",
    "##Second training loop\n",
    "telapsed_summary_2 = Env_pre.tuneAndTrain(max_loss, min_loss, dropout_prob, preTrained=False)\n",
    "\n",
    "Env_pre.generator.grow(200)\n",
    "Env_pre.critic.grow(50)\n",
    "\n",
    "to_device(Env_pre.generator, Env_pre.device)\n",
    "to_device(Env_pre.critic, Env_pre.device)\n",
    "\n",
    "##Third training loop\n",
    "#input\n",
    "Env_pre.iter_critic = 2\n",
    "dropout_prob = 0.7\n",
    "\n",
    "Env_pre.generator.change_dropout(dropout_prob)\n",
    "Env_pre.critic.change_dropout(dropout_prob)\n",
    "\n",
    "telapsed_summary_3 = Env_pre.tuneAndTrain(max_loss, min_loss, dropout_prob, preTrained=False)\n",
    "\n",
    "##Save time stats\n",
    "dat_telapsed = pd.DataFrame([telapsed_summary_1, telapsed_summary_2, telapsed_summary_3])\n",
    "dat_telapsed.to_csv(Env_pre.PATH + '/Results/telapsed.csv')"
   ]
  },
  {
   "cell_type": "code",
   "execution_count": null,
   "id": "6ab96758-2002-4610-9873-d92068e46016",
   "metadata": {
    "tags": []
   },
   "outputs": [],
   "source": [
    "Env_pre.load_pre(dropout_prob, 118, preTrained = False)\n",
    "Env_pre.critic"
   ]
  },
  {
   "cell_type": "code",
   "execution_count": null,
   "id": "ab5908c6-3ccf-4e0f-8107-f55b70dfa335",
   "metadata": {},
   "outputs": [],
   "source": []
  }
 ],
 "metadata": {
  "kernelspec": {
   "display_name": "Python 3 (ipykernel)",
   "language": "python",
   "name": "python3"
  },
  "language_info": {
   "codemirror_mode": {
    "name": "ipython",
    "version": 3
   },
   "file_extension": ".py",
   "mimetype": "text/x-python",
   "name": "python",
   "nbconvert_exporter": "python",
   "pygments_lexer": "ipython3",
   "version": "3.8.16"
  }
 },
 "nbformat": 4,
 "nbformat_minor": 5
}
